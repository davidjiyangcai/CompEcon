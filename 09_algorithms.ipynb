{
 "cells": [
  {
   "cell_type": "markdown",
   "metadata": {
    "slideshow": {
     "slide_type": "slide"
    }
   },
   "source": [
    "# Foundations of Computational Economics #9\n",
    "\n",
    "by Fedor Iskhakov, ANU\n",
    "\n",
    "<img src=\"_static/img/dag3logo.png\" style=\"width:256px;\">"
   ]
  },
  {
   "cell_type": "markdown",
   "metadata": {
    "slideshow": {
     "slide_type": "fragment"
    }
   },
   "source": [
    "## Algorithms and complexity\n",
    "\n",
    "<img src=\"_static/img/lecture.png\" style=\"width:64px;\">"
   ]
  },
  {
   "cell_type": "markdown",
   "metadata": {
    "slideshow": {
     "slide_type": "subslide"
    }
   },
   "source": [
    "<img src=\"_static/img/youtube.png\" style=\"width:65px;\">\n",
    "\n",
    "[https://youtu.be/pBbpEBVheOQ](https://youtu.be/pBbpEBVheOQ)\n",
    "\n",
    "Description: Timing of Python code. Runtime order of growth. Complexity classes. P vs NP."
   ]
  },
  {
   "cell_type": "markdown",
   "metadata": {
    "slideshow": {
     "slide_type": "slide"
    }
   },
   "source": [
    "### Two ways to evaluate the polynomial\n",
    "\n",
    "$$\n",
    "y = a_1 + a_2 x + a_3 x^2 + \\dots + a_k x^k\n",
    "$$\n",
    "\n",
    "Algorithm 1: compute each term, then add together\n",
    "\n",
    "Algorithm 2: try to avoid computing powers"
   ]
  },
  {
   "cell_type": "code",
   "execution_count": 1,
   "metadata": {
    "hide-output": false,
    "slideshow": {
     "slide_type": "slide"
    }
   },
   "outputs": [],
   "source": [
    "def calc_polynomial(qs=[0,], x=0.0, algorithm='fast'):\n",
    "    '''Evaluates the polynomial given by coefficients qs at given x.\n",
    "    First coefficient qs[0] is a constant, last coefficient is for highest power.\n",
    "    '''\n",
    "    if algorithm is not 'fast':\n",
    "        # slower algorithm\n",
    "        res=0.0\n",
    "        for k in range(len(qs)):\n",
    "            xpw = x**k\n",
    "            res += qs[k] * xpw\n",
    "    else:\n",
    "        # faster algorithm\n",
    "        res,xpw = qs[0], x  # init result and power of x\n",
    "        for i in range(1,len(qs)):  # start with second coefficient\n",
    "            res += xpw * qs[i]\n",
    "            xpw *= x\n",
    "    return res"
   ]
  },
  {
   "cell_type": "markdown",
   "metadata": {
    "slideshow": {
     "slide_type": "slide"
    }
   },
   "source": [
    "#### Timing function evaluation\n",
    "\n",
    "Several ways to measure run time in python\n",
    "\n",
    "- **time** module  \n",
    "- **timeit** module (for small snippets)  \n",
    "- profiles (**profile** and **cProfile**, for large codes)  \n",
    "\n",
    "\n",
    "In Jupyter Notebooks we can use a **magic function** timeit"
   ]
  },
  {
   "cell_type": "code",
   "execution_count": null,
   "metadata": {
    "hide-output": false,
    "slideshow": {
     "slide_type": "slide"
    }
   },
   "outputs": [],
   "source": [
    "@timeit <options> <line of code to be timed>"
   ]
  },
  {
   "cell_type": "code",
   "execution_count": null,
   "metadata": {
    "hide-output": false,
    "slideshow": {
     "slide_type": "fragment"
    }
   },
   "outputs": [],
   "source": [
    "@@timeit <options> <setup command>\n",
    "all lines of code in the cell\n",
    "to be timed together"
   ]
  },
  {
   "cell_type": "markdown",
   "metadata": {
    "slideshow": {
     "slide_type": "fragment"
    }
   },
   "source": [
    "[Documentation on @timeit](https://ipython.readthedocs.io/en/stable/interactive/magics.html?highlight=timeit#magic-timeit)"
   ]
  },
  {
   "cell_type": "code",
   "execution_count": 4,
   "metadata": {
    "hide-output": false,
    "slideshow": {
     "slide_type": "slide"
    }
   },
   "outputs": [
    {
     "name": "stdout",
     "output_type": "stream",
     "text": [
      "48.3 µs ± 6.72 µs per loop (mean ± std. dev. of 100 runs, 100 loops each)\n"
     ]
    }
   ],
   "source": [
    "%%timeit -n100 -r100 qs = [1,]*100\n",
    "calc_polynomial(qs,15,'slow')"
   ]
  },
  {
   "cell_type": "code",
   "execution_count": 5,
   "metadata": {
    "hide-output": false,
    "slideshow": {
     "slide_type": "fragment"
    }
   },
   "outputs": [
    {
     "name": "stdout",
     "output_type": "stream",
     "text": [
      "15.6 µs ± 2.33 µs per loop (mean ± std. dev. of 100 runs, 100 loops each)\n"
     ]
    }
   ],
   "source": [
    "%%timeit -n100 -r100 qs = [1,]*100\n",
    "calc_polynomial(qs,15,'fast')"
   ]
  },
  {
   "cell_type": "markdown",
   "metadata": {
    "slideshow": {
     "slide_type": "slide"
    }
   },
   "source": [
    "### Algorithms\n",
    "\n",
    "**Sequence of commands** for computer to run\n",
    "\n",
    "1. How much time does it take to run?  \n",
    "1. How much memory does it need?  \n",
    "1. What other resources may be limiting? (storage, communication, etc)  \n",
    "\n",
    "\n",
    "**Smart algorithm is a lot more important that fast computer**"
   ]
  },
  {
   "cell_type": "markdown",
   "metadata": {
    "slideshow": {
     "slide_type": "slide"
    }
   },
   "source": [
    "#### Computational speed and algorithm development\n",
    "\n",
    "[Professor Martin Grötschel Konrad-Zuse-Zentrum für Informationstechnik\n",
    "Berlin, expert in optimization](http://robertvienneau.blogspot.com/2011/01/increase-in-feasibility-of-economic.html)\n",
    "\n",
    "> “a benchmark production planning model solved using linear\n",
    "programming would have taken 82 years to solve in 1988, using the\n",
    "computers and the linear programming algorithms of the day. Fifteen\n",
    "years later – in 2003 – this same model could be solved in roughly 1\n",
    "minute, an improvement by a factor of roughly 43 million. Of this, a\n",
    "factor of roughly 1,000 was due to increased processor speed, whereas\n",
    "a factor of roughly 43,000 was due to improvements in algorithms!”"
   ]
  },
  {
   "cell_type": "code",
   "execution_count": 1,
   "metadata": {
    "hide-output": false,
    "slideshow": {
     "slide_type": "subslide"
    }
   },
   "outputs": [
    {
     "name": "stdout",
     "output_type": "stream",
     "text": [
      "Writing algorithm_examples.py\n"
     ]
    }
   ],
   "source": [
    "%%writefile 'algorithm_examples.py'\n",
    "\n",
    "# Example code to be discussed in the following videos\n",
    "\n",
    "import time\n",
    "\n",
    "def parity (n,verbose=False):\n",
    "    '''Returns 1 if passed integer number is odd\n",
    "    '''\n",
    "    if not isinstance(n, int): raise TypeError('Only integers in parity()')\n",
    "    if verbose: print('n = ', format(n, \"b\"))  # print binary form of the number\n",
    "    return n & 1  # bitwise and operation returns the value of last bit\n",
    "\n",
    "def maximum_from_list (vars):\n",
    "    '''Returns the maximum from a list of values\n",
    "    '''\n",
    "    m=float('-inf')  # init with the worst value\n",
    "    for v in vars:\n",
    "        if v > m: m = v\n",
    "    return m\n",
    "\n",
    "def binary_search(grid=[0,1],val=0,delay=0):\n",
    "    '''Returns the index of val on the sorted grid\n",
    "    Optional delay introduces a delay (in microsecond)\n",
    "    '''\n",
    "    i1,i2 = 0,len(grid)-1\n",
    "    if val==grid[i1]: return i1\n",
    "    if val==grid[i2]: return i2\n",
    "    j=(i1+i2)//2\n",
    "    while grid[j]!=val:\n",
    "        if val>grid[j]:\n",
    "            i1=j\n",
    "        else:\n",
    "            i2=j\n",
    "        j=(i1+i2)//2  # divide in half\n",
    "        time.sleep(delay*1e-6)  # micro-sec to seconds\n",
    "    return j\n",
    "\n",
    "def compositions(N,m):\n",
    "    '''Iterable on compositions of N with m parts\n",
    "    Returns the generator (to be used in for loops)\n",
    "    '''\n",
    "    cmp=[0,]*m\n",
    "    cmp[m-1]=N  # initial composition is all to the last\n",
    "    yield cmp\n",
    "    while cmp[0]!=N:\n",
    "        i=m-1\n",
    "        while cmp[i]==0: i-=1  # find lowest non-zero digit\n",
    "        cmp[i-1] = cmp[i-1]+1  # increment next digit\n",
    "        cmp[m-1] = cmp[i]-1    # the rest to the lowest\n",
    "        if i!=m-1: cmp[i] = 0  # maintain cost sum\n",
    "        yield cmp"
   ]
  },
  {
   "cell_type": "markdown",
   "metadata": {
    "slideshow": {
     "slide_type": "slide"
    }
   },
   "source": [
    "#### Parity of a number\n",
    "\n",
    "Check whether an integer is odd or even.\n",
    "\n",
    "Algorithm: check the last bit in the binary representation of a number"
   ]
  },
  {
   "cell_type": "code",
   "execution_count": 2,
   "metadata": {
    "hide-output": false,
    "slideshow": {
     "slide_type": "fragment"
    }
   },
   "outputs": [
    {
     "name": "stdout",
     "output_type": "stream",
     "text": [
      "k=10 (4 bits)\n",
      "95.1 ns ± 26.4 ns per loop (mean ± std. dev. of 500 runs, 5,000 loops each)\n",
      "k=101 (7 bits)\n",
      "84.3 ns ± 2.24 ns per loop (mean ± std. dev. of 500 runs, 5,000 loops each)\n",
      "k=1002 (10 bits)\n",
      "84.7 ns ± 2.77 ns per loop (mean ± std. dev. of 500 runs, 5,000 loops each)\n",
      "k=10003 (14 bits)\n",
      "84.9 ns ± 2.8 ns per loop (mean ± std. dev. of 500 runs, 5,000 loops each)\n",
      "k=100004 (17 bits)\n",
      "85.9 ns ± 7.65 ns per loop (mean ± std. dev. of 500 runs, 5,000 loops each)\n"
     ]
    }
   ],
   "source": [
    "# import all example code\n",
    "from algorithm_examples import *\n",
    "\n",
    "for k in [10**(i+1)+i for i in range(5)]:\n",
    "    print('k=%d (%d bits)' % (k,k.bit_length()))\n",
    "    tt = %timeit -n5000 -r500 -o parity(k)"
   ]
  },
  {
   "cell_type": "code",
   "execution_count": 5,
   "metadata": {
    "hide-output": false,
    "slideshow": {
     "slide_type": "slide"
    }
   },
   "outputs": [
    {
     "name": "stdout",
     "output_type": "stream",
     "text": [
      "135 ns ± 30.9 ns per loop (mean ± std. dev. of 100 runs, 5,000 loops each)\n",
      "87.6 ns ± 6.14 ns per loop (mean ± std. dev. of 100 runs, 5,000 loops each)\n",
      "84.2 ns ± 3.7 ns per loop (mean ± std. dev. of 100 runs, 5,000 loops each)\n",
      "85.4 ns ± 0.979 ns per loop (mean ± std. dev. of 100 runs, 5,000 loops each)\n",
      "85 ns ± 0.361 ns per loop (mean ± std. dev. of 100 runs, 5,000 loops each)\n",
      "83.8 ns ± 0.442 ns per loop (mean ± std. dev. of 100 runs, 5,000 loops each)\n",
      "84.6 ns ± 3.55 ns per loop (mean ± std. dev. of 100 runs, 5,000 loops each)\n",
      "85.4 ns ± 4.58 ns per loop (mean ± std. dev. of 100 runs, 5,000 loops each)\n",
      "84.5 ns ± 0.837 ns per loop (mean ± std. dev. of 100 runs, 5,000 loops each)\n",
      "84.3 ns ± 0.463 ns per loop (mean ± std. dev. of 100 runs, 5,000 loops each)\n",
      "84.8 ns ± 0.555 ns per loop (mean ± std. dev. of 100 runs, 5,000 loops each)\n",
      "87.1 ns ± 3.22 ns per loop (mean ± std. dev. of 100 runs, 5,000 loops each)\n",
      "87 ns ± 4.71 ns per loop (mean ± std. dev. of 100 runs, 5,000 loops each)\n",
      "85.2 ns ± 4.61 ns per loop (mean ± std. dev. of 100 runs, 5,000 loops each)\n",
      "83.4 ns ± 1.31 ns per loop (mean ± std. dev. of 100 runs, 5,000 loops each)\n",
      "84.3 ns ± 0.575 ns per loop (mean ± std. dev. of 100 runs, 5,000 loops each)\n",
      "84.3 ns ± 0.513 ns per loop (mean ± std. dev. of 100 runs, 5,000 loops each)\n",
      "84.8 ns ± 0.509 ns per loop (mean ± std. dev. of 100 runs, 5,000 loops each)\n",
      "84.8 ns ± 3.88 ns per loop (mean ± std. dev. of 100 runs, 5,000 loops each)\n",
      "86.8 ns ± 4.5 ns per loop (mean ± std. dev. of 100 runs, 5,000 loops each)\n",
      "85 ns ± 0.702 ns per loop (mean ± std. dev. of 100 runs, 5,000 loops each)\n",
      "84.1 ns ± 0.312 ns per loop (mean ± std. dev. of 100 runs, 5,000 loops each)\n",
      "84.2 ns ± 0.37 ns per loop (mean ± std. dev. of 100 runs, 5,000 loops each)\n",
      "84 ns ± 0.366 ns per loop (mean ± std. dev. of 100 runs, 5,000 loops each)\n",
      "85.8 ns ± 5.44 ns per loop (mean ± std. dev. of 100 runs, 5,000 loops each)\n",
      "86.4 ns ± 4.53 ns per loop (mean ± std. dev. of 100 runs, 5,000 loops each)\n",
      "83.3 ns ± 3.17 ns per loop (mean ± std. dev. of 100 runs, 5,000 loops each)\n",
      "84.2 ns ± 0.326 ns per loop (mean ± std. dev. of 100 runs, 5,000 loops each)\n",
      "84.2 ns ± 0.522 ns per loop (mean ± std. dev. of 100 runs, 5,000 loops each)\n",
      "85.2 ns ± 4.46 ns per loop (mean ± std. dev. of 100 runs, 5,000 loops each)\n",
      "91.6 ns ± 18.7 ns per loop (mean ± std. dev. of 100 runs, 5,000 loops each)\n",
      "86.2 ns ± 4.36 ns per loop (mean ± std. dev. of 100 runs, 5,000 loops each)\n",
      "84.4 ns ± 0.558 ns per loop (mean ± std. dev. of 100 runs, 5,000 loops each)\n",
      "84 ns ± 0.406 ns per loop (mean ± std. dev. of 100 runs, 5,000 loops each)\n",
      "85 ns ± 0.643 ns per loop (mean ± std. dev. of 100 runs, 5,000 loops each)\n",
      "84.2 ns ± 3.49 ns per loop (mean ± std. dev. of 100 runs, 5,000 loops each)\n",
      "85.5 ns ± 3.78 ns per loop (mean ± std. dev. of 100 runs, 5,000 loops each)\n",
      "84.2 ns ± 0.674 ns per loop (mean ± std. dev. of 100 runs, 5,000 loops each)\n",
      "84.8 ns ± 0.57 ns per loop (mean ± std. dev. of 100 runs, 5,000 loops each)\n",
      "84.3 ns ± 0.723 ns per loop (mean ± std. dev. of 100 runs, 5,000 loops each)\n",
      "84.3 ns ± 0.856 ns per loop (mean ± std. dev. of 100 runs, 5,000 loops each)\n",
      "84.1 ns ± 3.61 ns per loop (mean ± std. dev. of 100 runs, 5,000 loops each)\n",
      "85.9 ns ± 4.07 ns per loop (mean ± std. dev. of 100 runs, 5,000 loops each)\n",
      "84.4 ns ± 0.575 ns per loop (mean ± std. dev. of 100 runs, 5,000 loops each)\n",
      "84.5 ns ± 0.456 ns per loop (mean ± std. dev. of 100 runs, 5,000 loops each)\n",
      "84 ns ± 0.603 ns per loop (mean ± std. dev. of 100 runs, 5,000 loops each)\n",
      "85.1 ns ± 0.413 ns per loop (mean ± std. dev. of 100 runs, 5,000 loops each)\n",
      "84 ns ± 4 ns per loop (mean ± std. dev. of 100 runs, 5,000 loops each)\n",
      "85.5 ns ± 3.95 ns per loop (mean ± std. dev. of 100 runs, 5,000 loops each)\n",
      "83.2 ns ± 1.77 ns per loop (mean ± std. dev. of 100 runs, 5,000 loops each)\n"
     ]
    },
    {
     "data": {
      "image/png": "[encoded data removed]",
      "text/plain": [
       "<Figure size 1200x800 with 1 Axes>"
      ]
     },
     "metadata": {},
     "output_type": "display_data"
    }
   ],
   "source": [
    "import matplotlib.pyplot as plt\n",
    "%matplotlib inline\n",
    "plt.rcParams['figure.figsize'] = [12, 8]\n",
    "\n",
    "N = 50\n",
    "kk = lambda i: 10**(i+1)+i  # step formula\n",
    "n,x,std = [0]*N,[0]*N,[0]*N # initialize data lists\n",
    "for i in range(N):\n",
    "    k = kk(i)  # input value for testing\n",
    "    n[i] = k.bit_length() # size of problem = bits in number\n",
    "    t = %timeit -n5000 -r100 -o parity(k)\n",
    "    x[i] = t.average\n",
    "    std[i] = t.stdev\n",
    "\n",
    "plt.errorbar(n,x,std)\n",
    "plt.xlabel('number of bits in the input argument')\n",
    "plt.ylabel('run time, sec')\n",
    "plt.show()"
   ]
  },
  {
   "cell_type": "markdown",
   "metadata": {
    "slideshow": {
     "slide_type": "slide"
    }
   },
   "source": [
    "#### Finding max/min of a list\n",
    "\n",
    "Find max or min in an unsorted list of values\n",
    "\n",
    "Algorithm: run through the list once"
   ]
  },
  {
   "cell_type": "code",
   "execution_count": 6,
   "metadata": {
    "hide-output": false,
    "slideshow": {
     "slide_type": "fragment"
    }
   },
   "outputs": [
    {
     "name": "stdout",
     "output_type": "stream",
     "text": [
      "[45.33359206 62.99260641 99.21348174 72.70015206 26.25460959 20.61067841\n",
      " 67.64960051 15.57085308 73.09639342  5.06023106]\n",
      "max=99.213482\n"
     ]
    }
   ],
   "source": [
    "import numpy as np\n",
    "\n",
    "N = 10\n",
    "# generate uniformly distributed values between given bounds\n",
    "x = np.random.uniform(low=0.0, high=100.0, size=N)\n",
    "print(x)\n",
    "print(\"max=%f\"%maximum_from_list(x))"
   ]
  },
  {
   "cell_type": "code",
   "execution_count": 7,
   "metadata": {
    "hide-output": false,
    "slideshow": {
     "slide_type": "slide"
    }
   },
   "outputs": [
    {
     "name": "stdout",
     "output_type": "stream",
     "text": [
      "The slowest run took 7.97 times longer than the fastest. This could mean that an intermediate result is being cached.\n",
      "578 ns ± 405 ns per loop (mean ± std. dev. of 100 runs, 1,000 loops each)\n",
      "421 ns ± 58.8 ns per loop (mean ± std. dev. of 100 runs, 1,000 loops each)\n",
      "430 ns ± 20 ns per loop (mean ± std. dev. of 100 runs, 1,000 loops each)\n",
      "503 ns ± 20.4 ns per loop (mean ± std. dev. of 100 runs, 1,000 loops each)\n",
      "545 ns ± 4.05 ns per loop (mean ± std. dev. of 100 runs, 1,000 loops each)\n",
      "620 ns ± 23.1 ns per loop (mean ± std. dev. of 100 runs, 1,000 loops each)\n",
      "738 ns ± 32.3 ns per loop (mean ± std. dev. of 100 runs, 1,000 loops each)\n",
      "784 ns ± 39.5 ns per loop (mean ± std. dev. of 100 runs, 1,000 loops each)\n",
      "836 ns ± 32.4 ns per loop (mean ± std. dev. of 100 runs, 1,000 loops each)\n",
      "961 ns ± 49.1 ns per loop (mean ± std. dev. of 100 runs, 1,000 loops each)\n",
      "965 ns ± 5.79 ns per loop (mean ± std. dev. of 100 runs, 1,000 loops each)\n",
      "1.01 µs ± 36.8 ns per loop (mean ± std. dev. of 100 runs, 1,000 loops each)\n",
      "1.07 µs ± 17.5 ns per loop (mean ± std. dev. of 100 runs, 1,000 loops each)\n",
      "1.26 µs ± 304 ns per loop (mean ± std. dev. of 100 runs, 1,000 loops each)\n",
      "1.21 µs ± 63.5 ns per loop (mean ± std. dev. of 100 runs, 1,000 loops each)\n",
      "1.27 µs ± 50.2 ns per loop (mean ± std. dev. of 100 runs, 1,000 loops each)\n",
      "1.39 µs ± 30 ns per loop (mean ± std. dev. of 100 runs, 1,000 loops each)\n",
      "1.34 µs ± 26.8 ns per loop (mean ± std. dev. of 100 runs, 1,000 loops each)\n",
      "1.43 µs ± 28.1 ns per loop (mean ± std. dev. of 100 runs, 1,000 loops each)\n",
      "1.51 µs ± 55 ns per loop (mean ± std. dev. of 100 runs, 1,000 loops each)\n",
      "1.57 µs ± 44.3 ns per loop (mean ± std. dev. of 100 runs, 1,000 loops each)\n",
      "1.66 µs ± 39.8 ns per loop (mean ± std. dev. of 100 runs, 1,000 loops each)\n",
      "1.67 µs ± 16.1 ns per loop (mean ± std. dev. of 100 runs, 1,000 loops each)\n",
      "1.78 µs ± 38.8 ns per loop (mean ± std. dev. of 100 runs, 1,000 loops each)\n",
      "1.82 µs ± 15.4 ns per loop (mean ± std. dev. of 100 runs, 1,000 loops each)\n",
      "1.83 µs ± 42.4 ns per loop (mean ± std. dev. of 100 runs, 1,000 loops each)\n",
      "1.96 µs ± 507 ns per loop (mean ± std. dev. of 100 runs, 1,000 loops each)\n",
      "2.04 µs ± 68.5 ns per loop (mean ± std. dev. of 100 runs, 1,000 loops each)\n",
      "2.12 µs ± 67.9 ns per loop (mean ± std. dev. of 100 runs, 1,000 loops each)\n",
      "2.14 µs ± 60.2 ns per loop (mean ± std. dev. of 100 runs, 1,000 loops each)\n",
      "2.18 µs ± 55.8 ns per loop (mean ± std. dev. of 100 runs, 1,000 loops each)\n",
      "2.27 µs ± 78.3 ns per loop (mean ± std. dev. of 100 runs, 1,000 loops each)\n",
      "2.32 µs ± 51.9 ns per loop (mean ± std. dev. of 100 runs, 1,000 loops each)\n",
      "2.38 µs ± 31.1 ns per loop (mean ± std. dev. of 100 runs, 1,000 loops each)\n",
      "2.4 µs ± 39.2 ns per loop (mean ± std. dev. of 100 runs, 1,000 loops each)\n",
      "2.54 µs ± 43.6 ns per loop (mean ± std. dev. of 100 runs, 1,000 loops each)\n",
      "2.54 µs ± 44.7 ns per loop (mean ± std. dev. of 100 runs, 1,000 loops each)\n",
      "2.64 µs ± 43.3 ns per loop (mean ± std. dev. of 100 runs, 1,000 loops each)\n",
      "2.71 µs ± 80.4 ns per loop (mean ± std. dev. of 100 runs, 1,000 loops each)\n",
      "2.8 µs ± 59 ns per loop (mean ± std. dev. of 100 runs, 1,000 loops each)\n",
      "2.79 µs ± 39.2 ns per loop (mean ± std. dev. of 100 runs, 1,000 loops each)\n",
      "The slowest run took 7.75 times longer than the fastest. This could mean that an intermediate result is being cached.\n",
      "3.11 µs ± 1.89 µs per loop (mean ± std. dev. of 100 runs, 1,000 loops each)\n",
      "2.96 µs ± 85.7 ns per loop (mean ± std. dev. of 100 runs, 1,000 loops each)\n",
      "3.36 µs ± 1.07 µs per loop (mean ± std. dev. of 100 runs, 1,000 loops each)\n",
      "3.05 µs ± 82.1 ns per loop (mean ± std. dev. of 100 runs, 1,000 loops each)\n",
      "3.24 µs ± 105 ns per loop (mean ± std. dev. of 100 runs, 1,000 loops each)\n",
      "3.24 µs ± 81.2 ns per loop (mean ± std. dev. of 100 runs, 1,000 loops each)\n",
      "3.22 µs ± 55.9 ns per loop (mean ± std. dev. of 100 runs, 1,000 loops each)\n",
      "3.32 µs ± 41.1 ns per loop (mean ± std. dev. of 100 runs, 1,000 loops each)\n",
      "3.39 µs ± 58.1 ns per loop (mean ± std. dev. of 100 runs, 1,000 loops each)\n"
     ]
    },
    {
     "data": {
      "image/png": "[encoded data removed]",
      "text/plain": [
       "<Figure size 1200x800 with 1 Axes>"
      ]
     },
     "metadata": {},
     "output_type": "display_data"
    }
   ],
   "source": [
    "N = 50\n",
    "kk = lambda i: 2*i  # step formula\n",
    "n,x,std = [0]*N,[0]*N,[0]*N # initialize data lists\n",
    "for i in range(N):\n",
    "    n[i] = kk(i) # size of the array\n",
    "    vv = np.random.uniform(low=0.0, high=100.0, size=n[i])\n",
    "    t = %timeit -n1000 -r100 -o maximum_from_list(vv)\n",
    "    x[i] = t.average\n",
    "    std[i] = t.stdev\n",
    "\n",
    "plt.errorbar(n,x,std)\n",
    "plt.xlabel('number of elements in the list')\n",
    "plt.ylabel('run time, sec')\n",
    "plt.show()"
   ]
  },
  {
   "cell_type": "markdown",
   "metadata": {
    "slideshow": {
     "slide_type": "slide"
    }
   },
   "source": [
    "### Binary search\n",
    "\n",
    "Find an element between given boundaries\n",
    "\n",
    "1. Think of number between 1 and 100  \n",
    "1. How many guesses are needed to locate it if the only answers are “below” and “above”?  \n",
    "1. What is the optimal sequece of questions?  "
   ]
  },
  {
   "cell_type": "code",
   "execution_count": 8,
   "metadata": {
    "hide-output": false,
    "slideshow": {
     "slide_type": "slide"
    }
   },
   "outputs": [
    {
     "name": "stdout",
     "output_type": "stream",
     "text": [
      "Index of x[6]=54 in array([17, 25, 27, 41, 48, 49, 54, 84, 86, 92]) is 6\n"
     ]
    }
   ],
   "source": [
    "N = 10\n",
    "# random sorted sequence of integers up to 100\n",
    "x = np.random.choice(100,size=N,replace=False)\n",
    "x = np.sort(x)\n",
    "# random choice of one number/index\n",
    "k0 = np.random.choice(N,size=1)\n",
    "\n",
    "k1 = binary_search(grid=x,val=x[k0])\n",
    "print(\"Index of x[%d]=%d in %r is %d\"%(k0,x[k0],x,k1))"
   ]
  },
  {
   "cell_type": "code",
   "execution_count": 9,
   "metadata": {
    "hide-output": false,
    "scrolled": false,
    "slideshow": {
     "slide_type": "slide"
    }
   },
   "outputs": [
    {
     "name": "stdout",
     "output_type": "stream",
     "text": [
      "506 µs ± 35.8 µs per loop (mean ± std. dev. of 100 runs, 10 loops each)\n",
      "558 µs ± 32.9 µs per loop (mean ± std. dev. of 100 runs, 10 loops each)\n",
      "602 µs ± 29.6 µs per loop (mean ± std. dev. of 100 runs, 10 loops each)\n",
      "627 µs ± 31.2 µs per loop (mean ± std. dev. of 100 runs, 10 loops each)\n",
      "641 µs ± 30.6 µs per loop (mean ± std. dev. of 100 runs, 10 loops each)\n",
      "678 µs ± 35.1 µs per loop (mean ± std. dev. of 100 runs, 10 loops each)\n",
      "678 µs ± 38.2 µs per loop (mean ± std. dev. of 100 runs, 10 loops each)\n",
      "695 µs ± 34.4 µs per loop (mean ± std. dev. of 100 runs, 10 loops each)\n",
      "703 µs ± 32.3 µs per loop (mean ± std. dev. of 100 runs, 10 loops each)\n",
      "716 µs ± 36.5 µs per loop (mean ± std. dev. of 100 runs, 10 loops each)\n",
      "728 µs ± 26.9 µs per loop (mean ± std. dev. of 100 runs, 10 loops each)\n",
      "740 µs ± 31.4 µs per loop (mean ± std. dev. of 100 runs, 10 loops each)\n",
      "741 µs ± 39.7 µs per loop (mean ± std. dev. of 100 runs, 10 loops each)\n",
      "744 µs ± 29.8 µs per loop (mean ± std. dev. of 100 runs, 10 loops each)\n",
      "747 µs ± 33.5 µs per loop (mean ± std. dev. of 100 runs, 10 loops each)\n",
      "765 µs ± 35.5 µs per loop (mean ± std. dev. of 100 runs, 10 loops each)\n",
      "763 µs ± 40.1 µs per loop (mean ± std. dev. of 100 runs, 10 loops each)\n",
      "771 µs ± 30.1 µs per loop (mean ± std. dev. of 100 runs, 10 loops each)\n",
      "779 µs ± 32.7 µs per loop (mean ± std. dev. of 100 runs, 10 loops each)\n",
      "788 µs ± 36.1 µs per loop (mean ± std. dev. of 100 runs, 10 loops each)\n",
      "787 µs ± 38.6 µs per loop (mean ± std. dev. of 100 runs, 10 loops each)\n",
      "791 µs ± 31.6 µs per loop (mean ± std. dev. of 100 runs, 10 loops each)\n",
      "800 µs ± 28.9 µs per loop (mean ± std. dev. of 100 runs, 10 loops each)\n",
      "799 µs ± 30.2 µs per loop (mean ± std. dev. of 100 runs, 10 loops each)\n",
      "808 µs ± 32.4 µs per loop (mean ± std. dev. of 100 runs, 10 loops each)\n",
      "807 µs ± 32.1 µs per loop (mean ± std. dev. of 100 runs, 10 loops each)\n",
      "804 µs ± 31.2 µs per loop (mean ± std. dev. of 100 runs, 10 loops each)\n",
      "812 µs ± 29.9 µs per loop (mean ± std. dev. of 100 runs, 10 loops each)\n",
      "815 µs ± 29.6 µs per loop (mean ± std. dev. of 100 runs, 10 loops each)\n",
      "814 µs ± 37.8 µs per loop (mean ± std. dev. of 100 runs, 10 loops each)\n",
      "822 µs ± 32.7 µs per loop (mean ± std. dev. of 100 runs, 10 loops each)\n",
      "828 µs ± 27.8 µs per loop (mean ± std. dev. of 100 runs, 10 loops each)\n",
      "824 µs ± 28.8 µs per loop (mean ± std. dev. of 100 runs, 10 loops each)\n",
      "829 µs ± 29.2 µs per loop (mean ± std. dev. of 100 runs, 10 loops each)\n",
      "836 µs ± 31.8 µs per loop (mean ± std. dev. of 100 runs, 10 loops each)\n",
      "837 µs ± 26 µs per loop (mean ± std. dev. of 100 runs, 10 loops each)\n",
      "838 µs ± 31.7 µs per loop (mean ± std. dev. of 100 runs, 10 loops each)\n",
      "846 µs ± 32.2 µs per loop (mean ± std. dev. of 100 runs, 10 loops each)\n",
      "844 µs ± 38.3 µs per loop (mean ± std. dev. of 100 runs, 10 loops each)\n",
      "849 µs ± 31.8 µs per loop (mean ± std. dev. of 100 runs, 10 loops each)\n",
      "862 µs ± 32.8 µs per loop (mean ± std. dev. of 100 runs, 10 loops each)\n",
      "854 µs ± 31.1 µs per loop (mean ± std. dev. of 100 runs, 10 loops each)\n",
      "876 µs ± 97.8 µs per loop (mean ± std. dev. of 100 runs, 10 loops each)\n",
      "861 µs ± 36.5 µs per loop (mean ± std. dev. of 100 runs, 10 loops each)\n",
      "873 µs ± 33.2 µs per loop (mean ± std. dev. of 100 runs, 10 loops each)\n",
      "865 µs ± 34.1 µs per loop (mean ± std. dev. of 100 runs, 10 loops each)\n",
      "870 µs ± 35 µs per loop (mean ± std. dev. of 100 runs, 10 loops each)\n",
      "862 µs ± 31.7 µs per loop (mean ± std. dev. of 100 runs, 10 loops each)\n",
      "866 µs ± 35.2 µs per loop (mean ± std. dev. of 100 runs, 10 loops each)\n",
      "870 µs ± 33.6 µs per loop (mean ± std. dev. of 100 runs, 10 loops each)\n"
     ]
    },
    {
     "data": {
      "image/png": "[encoded data removed]",
      "text/plain": [
       "<Figure size 1200x800 with 1 Axes>"
      ]
     },
     "metadata": {},
     "output_type": "display_data"
    },
    {
     "data": {
      "image/png": "[encoded data removed]",
      "text/plain": [
       "<Figure size 1200x800 with 1 Axes>"
      ]
     },
     "metadata": {},
     "output_type": "display_data"
    }
   ],
   "source": [
    "N = 50  # number of points\n",
    "kk = lambda i: 100+(i+1)*500  # step formula\n",
    "# precompute the sorted sequence of integers of max length\n",
    "vv = np.random.choice(10*kk(N),size=kk(N),replace=False)\n",
    "vv = np.sort(vv)\n",
    "\n",
    "n,x,std = [0]*N,[0]*N,[0]*N   # initialize lists\n",
    "for i in range(N):\n",
    "    n[i] = kk(i)  # number of list elements\n",
    "    # randomize the choice in each run to smooth out simulation error\n",
    "    t = %timeit -n10 -r100 -o binary_search(grid=vv[:n[i]],val=vv[np.random.choice(n[i],size=1)],delay=50)\n",
    "    x[i] = t.average\n",
    "    std[i] = t.stdev\n",
    "\n",
    "plt.errorbar(n,x,std)\n",
    "plt.xlabel('number of elements in the list')\n",
    "plt.ylabel('run time, sec')\n",
    "plt.show()\n",
    "\n",
    "plt.errorbar(n,x,std)\n",
    "plt.xscale('log')\n",
    "plt.xlabel('log(number of elements in the list)')\n",
    "plt.ylabel('run time, sec')\n",
    "plt.show()"
   ]
  },
  {
   "cell_type": "markdown",
   "metadata": {
    "slideshow": {
     "slide_type": "slide"
    }
   },
   "source": [
    "#### Binary tree and divide-and-conquer algorithms\n",
    "\n",
    "<img src=\"_static/img/binary.png\" style=\"width:600px;\">"
   ]
  },
  {
   "cell_type": "markdown",
   "metadata": {
    "slideshow": {
     "slide_type": "slide"
    }
   },
   "source": [
    "### Big-O notation\n",
    "\n",
    "Useful way to label the complexity of an algorithm, where $ n $ is the size of the input or other dimension of the problem\n",
    "\n",
    "$$\n",
    "f(n)=\\mathcal{O}\\big(g(n)\\big) \\Leftrightarrow\n",
    "$$\n",
    "\n",
    "$$\n",
    "\\exists M>0 \\text{ and } N \\text{ such than } |f(n)| < M |g(n)|  \\text{ for all } n>N,\n",
    "$$\n",
    "\n",
    "Thus, functions $ f(n) $ and $ g(n) $ grow on the same *order*"
   ]
  },
  {
   "cell_type": "markdown",
   "metadata": {
    "slideshow": {
     "slide_type": "slide"
    }
   },
   "source": [
    "### Focus on the worst case\n",
    "\n",
    "In measuring solution time we may distinguish performance in\n",
    "\n",
    "- best (easiest to solve) case  \n",
    "- average case  \n",
    "- worst case ($ \\leftarrow $ the focus of the theory!)  \n",
    "\n",
    "\n",
    "Constants and lower terms are ignored because we are only interested in *order* or growth"
   ]
  },
  {
   "cell_type": "markdown",
   "metadata": {
    "slideshow": {
     "slide_type": "slide"
    }
   },
   "source": [
    "### Classes of algorithm complexity\n",
    "\n",
    "- $ \\mathcal{O}(1) $ constant time  \n",
    "- $ \\mathcal{O}(\\log_{2}(n)) $ logarithmic time  \n",
    "- $ \\mathcal{O}(n) $ linear time  \n",
    "- $ \\mathcal{O}(n \\log_{2}(n)) $ quasi-linear time  \n",
    "- $ \\mathcal{O}(n^{k}), k>1 $ quadratic, cubic, etc. **polinomial** time\n",
    "  $ \\uparrow $ **Tractable**  \n",
    "- $ \\mathcal{O}(2^{n}) $ exponential time $ \\downarrow $\n",
    "  **Curse of dimensionality**  \n",
    "- $ \\mathcal{O}(n!) $ factorial time  "
   ]
  },
  {
   "cell_type": "markdown",
   "metadata": {
    "slideshow": {
     "slide_type": "slide"
    }
   },
   "source": [
    "#### Classes of algorithm complexity\n",
    "\n",
    "<img src=\"_static/img/bigO.png\" style=\"width:600px;\">"
   ]
  },
  {
   "cell_type": "markdown",
   "metadata": {
    "slideshow": {
     "slide_type": "slide"
    }
   },
   "source": [
    "#### How many operations as function of input size?\n",
    "\n",
    "- Parity: Just need to check the lowest bit, does not depend on input size $ \\Rightarrow \\mathcal{O}(1) $  \n",
    "- Maximum element: Need to loop through elements once: $ \\Rightarrow \\mathcal{O}(n) $  \n",
    "- Binary search: Divide the problem in 2 each step $ \\Rightarrow \\mathcal{O}(\\log(n)) $  \n",
    "- Examples of $ \\mathcal{O}(2^n) $ or more?  "
   ]
  },
  {
   "cell_type": "markdown",
   "metadata": {
    "slideshow": {
     "slide_type": "slide"
    }
   },
   "source": [
    "#### Allocation of discrete good\n",
    "\n",
    "**Problem**\n",
    "\n",
    "Maximize welfare $ W(x_1,x_2,\\dots,x_n) $ subject to\n",
    "$ \\sum_{i=1}^{n}x_i = A $ where $ A $ is *discrete* good that is\n",
    "only divisible in steps of $ \\Lambda $.\n",
    "\n",
    "Let $ M=A/\\Lambda \\in \\mathbb{N} $. Let\n",
    "$ p_i \\in \\{0,1,\\dots,M\\} $ such that $ \\sum_{i=1}^{n}p_i = M $.\n",
    "\n",
    "Then the problem is equivalent to maximize\n",
    "$ W(\\Lambda p_1,\\Lambda p_2,\\dots,\\Lambda p_n) $ subject to above.\n",
    "\n",
    "$ (p_1,p_2,\\dots,p_n) $ is **composition** of number $ M $ into\n",
    "$ n $ parts."
   ]
  },
  {
   "cell_type": "code",
   "execution_count": 13,
   "metadata": {
    "hide-output": false,
    "scrolled": false,
    "slideshow": {
     "slide_type": "slide"
    }
   },
   "outputs": [
    {
     "name": "stdout",
     "output_type": "stream",
     "text": [
      "Total number of compositions is 165\n",
      "  0: [0, 0, 0, 8]\n",
      "  1: [0, 0, 1, 7]\n",
      "  2: [0, 0, 2, 6]\n",
      "  3: [0, 0, 3, 5]\n",
      "  4: [0, 0, 4, 4]\n",
      "  5: [0, 0, 5, 3]\n",
      "  6: [0, 0, 6, 2]\n",
      "  7: [0, 0, 7, 1]\n",
      "  8: [0, 0, 8, 0]\n",
      "  9: [0, 1, 0, 7]\n",
      " 10: [0, 1, 1, 6]\n",
      " 11: [0, 1, 2, 5]\n",
      " 12: [0, 1, 3, 4]\n",
      " 13: [0, 1, 4, 3]\n",
      " 14: [0, 1, 5, 2]\n",
      " 15: [0, 1, 6, 1]\n",
      " 16: [0, 1, 7, 0]\n",
      " 17: [0, 2, 0, 6]\n",
      " 18: [0, 2, 1, 5]\n",
      " 19: [0, 2, 2, 4]\n",
      " 20: [0, 2, 3, 3]\n",
      " 21: [0, 2, 4, 2]\n",
      " 22: [0, 2, 5, 1]\n",
      " 23: [0, 2, 6, 0]\n",
      " 24: [0, 3, 0, 5]\n",
      " 25: [0, 3, 1, 4]\n",
      " 26: [0, 3, 2, 3]\n",
      " 27: [0, 3, 3, 2]\n",
      " 28: [0, 3, 4, 1]\n",
      " 29: [0, 3, 5, 0]\n",
      " 30: [0, 4, 0, 4]\n",
      " 31: [0, 4, 1, 3]\n",
      " 32: [0, 4, 2, 2]\n",
      " 33: [0, 4, 3, 1]\n",
      " 34: [0, 4, 4, 0]\n",
      " 35: [0, 5, 0, 3]\n",
      " 36: [0, 5, 1, 2]\n",
      " 37: [0, 5, 2, 1]\n",
      " 38: [0, 5, 3, 0]\n",
      " 39: [0, 6, 0, 2]\n",
      " 40: [0, 6, 1, 1]\n",
      " 41: [0, 6, 2, 0]\n",
      " 42: [0, 7, 0, 1]\n",
      " 43: [0, 7, 1, 0]\n",
      " 44: [0, 8, 0, 0]\n",
      " 45: [1, 0, 0, 7]\n",
      " 46: [1, 0, 1, 6]\n",
      " 47: [1, 0, 2, 5]\n",
      " 48: [1, 0, 3, 4]\n",
      " 49: [1, 0, 4, 3]\n",
      " 50: [1, 0, 5, 2]\n",
      " 51: [1, 0, 6, 1]\n",
      " 52: [1, 0, 7, 0]\n",
      " 53: [1, 1, 0, 6]\n",
      " 54: [1, 1, 1, 5]\n",
      " 55: [1, 1, 2, 4]\n",
      " 56: [1, 1, 3, 3]\n",
      " 57: [1, 1, 4, 2]\n",
      " 58: [1, 1, 5, 1]\n",
      " 59: [1, 1, 6, 0]\n",
      " 60: [1, 2, 0, 5]\n",
      " 61: [1, 2, 1, 4]\n",
      " 62: [1, 2, 2, 3]\n",
      " 63: [1, 2, 3, 2]\n",
      " 64: [1, 2, 4, 1]\n",
      " 65: [1, 2, 5, 0]\n",
      " 66: [1, 3, 0, 4]\n",
      " 67: [1, 3, 1, 3]\n",
      " 68: [1, 3, 2, 2]\n",
      " 69: [1, 3, 3, 1]\n",
      " 70: [1, 3, 4, 0]\n",
      " 71: [1, 4, 0, 3]\n",
      " 72: [1, 4, 1, 2]\n",
      " 73: [1, 4, 2, 1]\n",
      " 74: [1, 4, 3, 0]\n",
      " 75: [1, 5, 0, 2]\n",
      " 76: [1, 5, 1, 1]\n",
      " 77: [1, 5, 2, 0]\n",
      " 78: [1, 6, 0, 1]\n",
      " 79: [1, 6, 1, 0]\n",
      " 80: [1, 7, 0, 0]\n",
      " 81: [2, 0, 0, 6]\n",
      " 82: [2, 0, 1, 5]\n",
      " 83: [2, 0, 2, 4]\n",
      " 84: [2, 0, 3, 3]\n",
      " 85: [2, 0, 4, 2]\n",
      " 86: [2, 0, 5, 1]\n",
      " 87: [2, 0, 6, 0]\n",
      " 88: [2, 1, 0, 5]\n",
      " 89: [2, 1, 1, 4]\n",
      " 90: [2, 1, 2, 3]\n",
      " 91: [2, 1, 3, 2]\n",
      " 92: [2, 1, 4, 1]\n",
      " 93: [2, 1, 5, 0]\n",
      " 94: [2, 2, 0, 4]\n",
      " 95: [2, 2, 1, 3]\n",
      " 96: [2, 2, 2, 2]\n",
      " 97: [2, 2, 3, 1]\n",
      " 98: [2, 2, 4, 0]\n",
      " 99: [2, 3, 0, 3]\n",
      "100: [2, 3, 1, 2]\n",
      "101: [2, 3, 2, 1]\n",
      "102: [2, 3, 3, 0]\n",
      "103: [2, 4, 0, 2]\n",
      "104: [2, 4, 1, 1]\n",
      "105: [2, 4, 2, 0]\n",
      "106: [2, 5, 0, 1]\n",
      "107: [2, 5, 1, 0]\n",
      "108: [2, 6, 0, 0]\n",
      "109: [3, 0, 0, 5]\n",
      "110: [3, 0, 1, 4]\n",
      "111: [3, 0, 2, 3]\n",
      "112: [3, 0, 3, 2]\n",
      "113: [3, 0, 4, 1]\n",
      "114: [3, 0, 5, 0]\n",
      "115: [3, 1, 0, 4]\n",
      "116: [3, 1, 1, 3]\n",
      "117: [3, 1, 2, 2]\n",
      "118: [3, 1, 3, 1]\n",
      "119: [3, 1, 4, 0]\n",
      "120: [3, 2, 0, 3]\n",
      "121: [3, 2, 1, 2]\n",
      "122: [3, 2, 2, 1]\n",
      "123: [3, 2, 3, 0]\n",
      "124: [3, 3, 0, 2]\n",
      "125: [3, 3, 1, 1]\n",
      "126: [3, 3, 2, 0]\n",
      "127: [3, 4, 0, 1]\n",
      "128: [3, 4, 1, 0]\n",
      "129: [3, 5, 0, 0]\n",
      "130: [4, 0, 0, 4]\n",
      "131: [4, 0, 1, 3]\n",
      "132: [4, 0, 2, 2]\n",
      "133: [4, 0, 3, 1]\n",
      "134: [4, 0, 4, 0]\n",
      "135: [4, 1, 0, 3]\n",
      "136: [4, 1, 1, 2]\n",
      "137: [4, 1, 2, 1]\n",
      "138: [4, 1, 3, 0]\n",
      "139: [4, 2, 0, 2]\n",
      "140: [4, 2, 1, 1]\n",
      "141: [4, 2, 2, 0]\n",
      "142: [4, 3, 0, 1]\n",
      "143: [4, 3, 1, 0]\n",
      "144: [4, 4, 0, 0]\n",
      "145: [5, 0, 0, 3]\n",
      "146: [5, 0, 1, 2]\n",
      "147: [5, 0, 2, 1]\n",
      "148: [5, 0, 3, 0]\n",
      "149: [5, 1, 0, 2]\n",
      "150: [5, 1, 1, 1]\n",
      "151: [5, 1, 2, 0]\n",
      "152: [5, 2, 0, 1]\n",
      "153: [5, 2, 1, 0]\n",
      "154: [5, 3, 0, 0]\n",
      "155: [6, 0, 0, 2]\n",
      "156: [6, 0, 1, 1]\n",
      "157: [6, 0, 2, 0]\n",
      "158: [6, 1, 0, 1]\n",
      "159: [6, 1, 1, 0]\n",
      "160: [6, 2, 0, 0]\n",
      "161: [7, 0, 0, 1]\n",
      "162: [7, 0, 1, 0]\n",
      "163: [7, 1, 0, 0]\n",
      "164: [8, 0, 0, 0]\n"
     ]
    }
   ],
   "source": [
    "import scipy.special\n",
    "n, M = 4, 8\n",
    "total = scipy.special.comb(M+n-1,n-1) # M+n-1 choose n-1\n",
    "print(\"Total number of compositions is %d\"%total)\n",
    "\n",
    "for i,k in enumerate(compositions(M,n)):\n",
    "    print('%3d'%i,end=\": \")\n",
    "    print(k)"
   ]
  },
  {
   "cell_type": "code",
   "execution_count": 14,
   "metadata": {
    "hide-output": false,
    "slideshow": {
     "slide_type": "slide"
    }
   },
   "outputs": [
    {
     "name": "stdout",
     "output_type": "stream",
     "text": [
      "5.69 µs ± 298 ns per loop (mean ± std. dev. of 10 runs, 2 loops each)\n",
      "60.1 µs ± 398 ns per loop (mean ± std. dev. of 10 runs, 2 loops each)\n",
      "515 µs ± 120 µs per loop (mean ± std. dev. of 10 runs, 2 loops each)\n",
      "3.02 ms ± 184 µs per loop (mean ± std. dev. of 10 runs, 2 loops each)\n",
      "16.7 ms ± 1.01 ms per loop (mean ± std. dev. of 10 runs, 2 loops each)\n",
      "71.1 ms ± 3.83 ms per loop (mean ± std. dev. of 10 runs, 2 loops each)\n",
      "250 ms ± 3.04 ms per loop (mean ± std. dev. of 10 runs, 2 loops each)\n",
      "893 ms ± 18.4 ms per loop (mean ± std. dev. of 10 runs, 2 loops each)\n",
      "2.96 s ± 90.7 ms per loop (mean ± std. dev. of 10 runs, 2 loops each)\n",
      "8.83 s ± 122 ms per loop (mean ± std. dev. of 10 runs, 2 loops each)\n"
     ]
    },
    {
     "data": {
      "image/png": "[encoded data removed]",
      "text/plain": [
       "<Figure size 864x576 with 1 Axes>"
      ]
     },
     "metadata": {
      "needs_background": "light"
     },
     "output_type": "display_data"
    },
    {
     "data": {
      "image/png": "[encoded data removed]",
      "text/plain": [
       "<Figure size 864x576 with 1 Axes>"
      ]
     },
     "metadata": {
      "needs_background": "light"
     },
     "output_type": "display_data"
    }
   ],
   "source": [
    "N = 10  # number of points\n",
    "kk = lambda i: 2+i  # step formula\n",
    "M = 20  # quantity of indivisible good in units of lambda\n",
    "\n",
    "n,x,std = [0]*N,[0]*N,[0]*N   # initialize lists\n",
    "for i in range(N):\n",
    "    n[i] = kk(i)  # number of list elements\n",
    "    t = %timeit -n2 -r10 -o for c in compositions(M,n[i]): pass\n",
    "    x[i] = t.average\n",
    "    std[i] = t.stdev\n",
    "\n",
    "plt.errorbar(n,x,std)\n",
    "plt.xlabel('Number of elements in compositions')\n",
    "plt.ylabel('run time, sec')\n",
    "plt.show()\n",
    "\n",
    "plt.errorbar(n,x,std)\n",
    "plt.yscale('log')\n",
    "plt.xlabel('Number of elements in compositions')\n",
    "plt.ylabel('log(run time)')\n",
    "plt.show()"
   ]
  },
  {
   "cell_type": "markdown",
   "metadata": {
    "slideshow": {
     "slide_type": "slide"
    }
   },
   "source": [
    "#### Other exponential algorithms\n",
    "\n",
    "- Many board games (checkers, chess, shogi, go) in n-by-n generalizations  \n",
    "- Traveling salesman problem (TSP)  \n",
    "- Many problems in economics are subject to “curse of dimensionality”  \n",
    "\n",
    "\n",
    "**Curse of dimensionality** = exponential time in solution algorithms"
   ]
  },
  {
   "cell_type": "markdown",
   "metadata": {
    "slideshow": {
     "slide_type": "slide"
    }
   },
   "source": [
    "#### What to do with heavy to compute models?\n",
    "\n",
    "1. Design of better solution algorithms  \n",
    "1. Analyze special classes of problems + rely on problem structure  \n",
    "1. Speed up the code (low level language, compilation to machine code)  \n",
    "1. Parallelize the computations  \n",
    "1. Bound the problem to maximize model usefulness while keeping it tractable  \n",
    "1. Wait for innovations in computing technology  "
   ]
  },
  {
   "cell_type": "markdown",
   "metadata": {
    "slideshow": {
     "slide_type": "slide"
    }
   },
   "source": [
    "#### Classes of computational complexity\n",
    "\n",
    "Thinking of all problems there are:\n",
    "\n",
    "- **P** can be solved in polynomial time  \n",
    "- **NP** solution can checked in polynomial time, even if requires *exponential* solution algorithm  \n",
    "- **NP-hard** as complex as *any* NP problem (including all exponential and combinatorial problems)  \n",
    "- **NP-complete** both NP and NP-hard (tied via reductions)  \n",
    "\n",
    "\n",
    "NP stands for non-deterministic polynomial time $ \\leftrightarrow $ *‘magic’ guess* algorithm"
   ]
  },
  {
   "cell_type": "markdown",
   "metadata": {
    "slideshow": {
     "slide_type": "slide"
    }
   },
   "source": [
    "#### P vs. NP\n",
    "\n",
    "Unresolved question of whether **P = NP** or **P** $ \\ne $ **NP** (\\$1 mln. prize by Clay Mathematics Institute)\n",
    "\n",
    "<img src=\"_static/img/complexity_classes.png\" style=\"width:500px;\">"
   ]
  },
  {
   "cell_type": "markdown",
   "metadata": {
    "slideshow": {
     "slide_type": "slide"
    }
   },
   "source": [
    "### Further learning resources\n",
    "\n",
    "- Profiling python code\n",
    "  [https://docs.python.org/3/library/profile.html](https://docs.python.org/3/library/profile.html)  \n",
    "- Complexity classes and P vs. NP\n",
    "  - [https://en.wikipedia.org/wiki/P_versus_NP_problem](https://en.wikipedia.org/wiki/P_versus_NP_problem)\n",
    "  - [https://cs.stackexchange.com/questions/9556/what-is-the-definition-of-p-np-np-complete-and-np-hard](https://cs.stackexchange.com/questions/9556/what-is-the-definition-of-p-np-np-complete-and-np-hard)\n",
    "  - [https://www.youtube.com/watch?v=YX40hbAHx3s](https://www.youtube.com/watch?v=YX40hbAHx3s)  \n",
    "- Lecture on algorithm complexity by Erik Demaine, MIT (50 min)\n",
    "  [https://www.youtube.com/watch?v=moPtwq_cVH8](https://www.youtube.com/watch?v=moPtwq_cVH8)  \n",
    "- Big-O cheet sheet\n",
    "  [https://www.bigocheatsheet.com/](https://www.bigocheatsheet.com/)  "
   ]
  }
 ],
 "metadata": {
  "celltoolbar": "Slideshow",
  "date": 1612589584.605089,
  "download_nb": false,
  "filename": "09_algorithms.rst",
  "filename_with_path": "09_algorithms",
  "kernelspec": {
   "display_name": "Python 3 (ipykernel)",
   "language": "python",
   "name": "python3"
  },
  "language_info": {
   "codemirror_mode": {
    "name": "ipython",
    "version": 3
   },
   "file_extension": ".py",
   "mimetype": "text/x-python",
   "name": "python",
   "nbconvert_exporter": "python",
   "pygments_lexer": "ipython3",
   "version": "3.9.12"
  },
  "title": "Foundations of Computational Economics #9"
 },
 "nbformat": 4,
 "nbformat_minor": 4
}
